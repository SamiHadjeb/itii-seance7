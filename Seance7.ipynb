{
 "cells": [
  {
   "cell_type": "markdown",
   "metadata": {},
   "source": [
    "En utilisant numpy:"
   ]
  },
  {
   "cell_type": "markdown",
   "metadata": {},
   "source": [
    "Ex 1 :Addition\n",
    "Écrire un programme pour lire les éléments de deux matrices et ajoutez les deux matrices dans la troisième.\n",
    "\n",
    "La somme de deux matrices de taille (m,n), $(A_{ij}) et (B_{ij}) notée $A+B$  est à nouveau une matrice (C_{ij}) de taille (m,n), obtenue en additionnant les éléments correspondants: $c_{ij}=a_{ij}+b_{ij}$\n"
   ]
  },
  {
   "cell_type": "code",
   "execution_count": 1,
   "metadata": {},
   "outputs": [
    {
     "name": "stdout",
     "output_type": "stream",
     "text": [
      "A:  [[ 1  5  3]\n",
      " [ 6  1 -8]\n",
      " [ 4  4  9]]\n",
      "B:  [[ 6 -7  1]\n",
      " [ 9 -1  3]\n",
      " [ 7  6  3]]\n",
      "AB:  [[ 72   6  25]\n",
      " [-11 -91 -15]\n",
      " [123  22  43]]\n"
     ]
    }
   ],
   "source": [
    "import numpy\n",
    " \n",
    "A = numpy.array([ [1, 5, 3], [6, 1, -8], [4, 4, 9] ])\n",
    "B = numpy.array([ [6, -7, 1], [9, -1, 3], [7, 6, 3] ])\n",
    "C = A.dot(B)\n",
    " \n",
    "print(\"A: \", A)\n",
    "print(\"B: \", B)\n",
    "print(\"AB: \", C)"
   ]
  },
  {
   "cell_type": "markdown",
   "metadata": {},
   "source": [
    "Ex2 :Multiplication\n",
    "Écrire un programme pour lire les éléments de deux matrices, puis multipliez les deux matrices dans la troisième.\n",
    "\n",
    "Deux matrices ne peuvent être multipliées que si le nombre de colonnes de la première matrice est le même que le nombre de lignes de la seconde matrice.\n",
    "\n",
    "Si $ A=(a_{ij})$ est une matrice de taille (m,n), $ B=(b_{ij})$ et est une matrice de taille (n,p), alors leur produit, noté $AB=(c_{ij})$ est une matrice de taille (m,p) définie par :\n",
    "$$\\forall i,j : c_{ij}=\\sum_{k=i}^{n} a_{ik}*b_{kj}$$"
   ]
  },
  {
   "cell_type": "code",
   "execution_count": 8,
   "metadata": {},
   "outputs": [
    {
     "name": "stdout",
     "output_type": "stream",
     "text": [
      "impossible\n",
      "False\n"
     ]
    }
   ],
   "source": [
    "def multiplication(A, B):\n",
    "    C = []\n",
    "    if len(A[0]) != len(B):\n",
    "        print(\"impossible\")\n",
    "        return False\n",
    "    for i in range(len(A)):\n",
    "        x = []\n",
    "        for j in range(len(B[0])):\n",
    "            temp = 0\n",
    "            for k in range(len(A[0])):\n",
    "                temp = temp + A[i][k] * B[k][j]\n",
    "            x.append(temp)\n",
    "        C.append(x)\n",
    "    return C\n",
    "\n",
    "print(multiplication( [ [1, 5, 3], [6, 1, -8], [4, 4, 9] ], [ [6, -7, 1], [9, -1, 3]] ))"
   ]
  },
  {
   "cell_type": "markdown",
   "metadata": {},
   "source": [
    "Ex 3: Matrice de Markov\n",
    "\n",
    "Une matrice de Markov est une matrice carrée dont chaque élément est un réel compris entre 0 et 1 et dont la somme des éléments de chaque ligne vaut 1. Cela correspond, en probabilité, à la matrice de transition d'une chaîne de Markov finie.\n",
    "\n",
    "Une matrice est dite bistochastique (ou doublement stochastique) si la somme des éléments de chaque ligne et de chaque colonne vaut 1.\n",
    "\n",
    "1. Ecrire une fonction eststochastique(P) qui permet de vérifier est ce que la matrice P est stochastique ou non\n",
    "2. Ecrire une fonction estbistochastique(P) qui permet de vérifier est ce que la matrice P est bistochastique ou non\n",
    "3. Ecrire une fonction vecteurstable(G, h) qui permet de vérifier est ce que h est un vecteur stable de G ou non\n",
    "\n"
   ]
  },
  {
   "cell_type": "code",
   "execution_count": 9,
   "metadata": {},
   "outputs": [
    {
     "name": "stdout",
     "output_type": "stream",
     "text": [
      "True\n",
      "True\n"
     ]
    }
   ],
   "source": [
    "def eststochastique(P):\n",
    "    for i in range(len(P)):\n",
    "        x = 0\n",
    "        for j in range(len(P[i])):\n",
    "            x = x + P[i][j]\n",
    "        if (x != 1):\n",
    "            return False\n",
    "    return True\n",
    "\n",
    "def estbistochastique(P):\n",
    "    if not eststochastique(P):\n",
    "        return False\n",
    "        for i in range(len(P[0])):\n",
    "            x = 0\n",
    "        for j in range(len(P)):\n",
    "            x += P[i][j]\n",
    "        if (x != 1):\n",
    "            return False\n",
    "    return True\n",
    "\n",
    "def vecteurstable(G, h):\n",
    "    return True;\n",
    "\n",
    "print(eststochastique( [ [0, 0, 1], [0, 1, 0], [1, 0, 0] ]))\n",
    "print(estbistochastique( [ [0, 0, 1], [0, 1, 0], [1, 0, 0] ]))"
   ]
  },
  {
   "cell_type": "markdown",
   "metadata": {},
   "source": [
    "Ex 4: Transposer\n",
    "\n",
    "Programmer une fonction qui, étant donné une matrice à deux dimensions A, retourne lamatrice B dont la première colonne est la première ligne de A, la seconde la deuxième ligne de A, etc. B s’appelle la transposée de A."
   ]
  },
  {
   "cell_type": "code",
   "execution_count": 23,
   "metadata": {},
   "outputs": [
    {
     "name": "stdout",
     "output_type": "stream",
     "text": [
      "[[0 1]\n",
      " [1 0]]\n"
     ]
    }
   ],
   "source": [
    "import numpy\n",
    "def transposer(A):\n",
    "    B = []\n",
    "    if ((len(A[0]) != 2 ) or ( len(A) != 2 )):\n",
    "        print(\"impossible\")\n",
    "        return False\n",
    "    B = numpy.transpose(A)\n",
    "    return B\n",
    "        \n",
    "\n",
    "print(transposer( [[0, 1], [1, 0] ]))"
   ]
  },
  {
   "cell_type": "markdown",
   "metadata": {},
   "source": [
    "Ex 5: Permutations\n",
    "1. $M$ désignant une matrice quelconque d’entiers à $l_i$ lignes et $co$ colonnes, $n$ un entier quelconque, programmer une fonction qui retourne la matrice $Sortie$ qui empile verticalement les $co+1$ matrices obtenues en adjoignant à $M$ une colonne $A$ à $li$ lignes dont tousles éléments sont égaux à $n$, $A$ étant placée d’abord devant $M$, puis entre la première et deuxième colonne de $M^a$,etc, jusqu’à ce que $A$ devienne sa dernière colonne. La matriceobtenue  aura $co+1$ colonnes et $(n+1)$ $li$ lignes\n",
    "\n",
    "2. Écrire toutes les permutations de(1, ..., n)"
   ]
  }
 ],
 "metadata": {
  "kernelspec": {
   "display_name": "Python 3",
   "language": "python",
   "name": "python3"
  },
  "language_info": {
   "codemirror_mode": {
    "name": "ipython",
    "version": 3
   },
   "file_extension": ".py",
   "mimetype": "text/x-python",
   "name": "python",
   "nbconvert_exporter": "python",
   "pygments_lexer": "ipython3",
   "version": "3.7.8"
  }
 },
 "nbformat": 4,
 "nbformat_minor": 4
}
